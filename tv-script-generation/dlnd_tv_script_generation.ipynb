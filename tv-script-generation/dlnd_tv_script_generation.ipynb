{
 "cells": [
  {
   "cell_type": "markdown",
   "metadata": {},
   "source": [
    "# TV Script Generation\n",
    "In this project, you'll generate your own [Simpsons](https://en.wikipedia.org/wiki/The_Simpsons) TV scripts using RNNs.  You'll be using part of the [Simpsons dataset](https://www.kaggle.com/wcukierski/the-simpsons-by-the-data) of scripts from 27 seasons.  The Neural Network you'll build will generate a new TV script for a scene at [Moe's Tavern](https://simpsonswiki.com/wiki/Moe's_Tavern).\n",
    "## Get the Data\n",
    "The data is already provided for you.  You'll be using a subset of the original dataset.  It consists of only the scenes in Moe's Tavern.  This doesn't include other versions of the tavern, like \"Moe's Cavern\", \"Flaming Moe's\", \"Uncle Moe's Family Feed-Bag\", etc.."
   ]
  },
  {
   "cell_type": "code",
   "execution_count": null,
   "metadata": {},
   "outputs": [],
   "source": [
    "\"\"\"\n",
    "DON'T MODIFY ANYTHING IN THIS CELL\n",
    "\"\"\"\n",
    "import helper\n",
    "\n",
    "data_dir = './data/simpsons/moes_tavern_lines.txt'\n",
    "text = helper.load_data(data_dir)\n",
    "# Ignore notice, since we don't use it for analysing the data\n",
    "text = text[81:]"
   ]
  },
  {
   "cell_type": "markdown",
   "metadata": {},
   "source": [
    "## Explore the Data\n",
    "Play around with `view_sentence_range` to view different parts of the data."
   ]
  },
  {
   "cell_type": "code",
   "execution_count": null,
   "metadata": {},
   "outputs": [],
   "source": [
    "view_sentence_range = (0, 10)\n",
    "\n",
    "\"\"\"\n",
    "DON'T MODIFY ANYTHING IN THIS CELL\n",
    "\"\"\"\n",
    "import numpy as np\n",
    "\n",
    "print('Dataset Stats')\n",
    "print('Roughly the number of unique words: {}'.format(len({word: None for word in text.split()})))\n",
    "scenes = text.split('\\n\\n')\n",
    "print('Number of scenes: {}'.format(len(scenes)))\n",
    "sentence_count_scene = [scene.count('\\n') for scene in scenes]\n",
    "print('Average number of sentences in each scene: {}'.format(np.average(sentence_count_scene)))\n",
    "\n",
    "sentences = [sentence for scene in scenes for sentence in scene.split('\\n')]\n",
    "print('Number of lines: {}'.format(len(sentences)))\n",
    "word_count_sentence = [len(sentence.split()) for sentence in sentences]\n",
    "print('Average number of words in each line: {}'.format(np.average(word_count_sentence)))\n",
    "\n",
    "print()\n",
    "print('The sentences {} to {}:'.format(*view_sentence_range))\n",
    "print('\\n'.join(text.split('\\n')[view_sentence_range[0]:view_sentence_range[1]]))"
   ]
  },
  {
   "cell_type": "markdown",
   "metadata": {},
   "source": [
    "## Implement Preprocessing Functions\n",
    "The first thing to do to any dataset is preprocessing.  Implement the following preprocessing functions below:\n",
    "- Lookup Table\n",
    "- Tokenize Punctuation\n",
    "\n",
    "### Lookup Table\n",
    "To create a word embedding, you first need to transform the words to ids.  In this function, create two dictionaries:\n",
    "- Dictionary to go from the words to an id, we'll call `vocab_to_int`\n",
    "- Dictionary to go from the id to word, we'll call `int_to_vocab`\n",
    "\n",
    "Return these dictionaries in the following tuple `(vocab_to_int, int_to_vocab)`"
   ]
  },
  {
   "cell_type": "code",
   "execution_count": null,
   "metadata": {},
   "outputs": [],
   "source": [
    "import numpy as np\n",
    "import problem_unittests as tests\n",
    "\n",
    "def create_lookup_tables(text):\n",
    "    \"\"\"\n",
    "    Create lookup tables for vocabulary\n",
    "    :param text: The text of tv scripts split into words\n",
    "    :return: A tuple of dicts (vocab_to_int, int_to_vocab)\n",
    "    \"\"\"\n",
    "    words = list(set(text))\n",
    "    \n",
    "    vocab_to_int = {word:i for i,word in enumerate(words)}\n",
    "    int_to_vocab = {vocab_to_int[key]:key for key in vocab_to_int.keys()}\n",
    "    return (vocab_to_int,int_to_vocab)\n",
    "\n",
    "\n",
    "\"\"\"\n",
    "DON'T MODIFY ANYTHING IN THIS CELL THAT IS BELOW THIS LINE\n",
    "\"\"\"\n",
    "tests.test_create_lookup_tables(create_lookup_tables)"
   ]
  },
  {
   "cell_type": "markdown",
   "metadata": {},
   "source": [
    "### Tokenize Punctuation\n",
    "We'll be splitting the script into a word array using spaces as delimiters.  However, punctuations like periods and exclamation marks make it hard for the neural network to distinguish between the word \"bye\" and \"bye!\".\n",
    "\n",
    "Implement the function `token_lookup` to return a dict that will be used to tokenize symbols like \"!\" into \"||Exclamation_Mark||\".  Create a dictionary for the following symbols where the symbol is the key and value is the token:\n",
    "- Period ( . )\n",
    "- Comma ( , )\n",
    "- Quotation Mark ( \" )\n",
    "- Semicolon ( ; )\n",
    "- Exclamation mark ( ! )\n",
    "- Question mark ( ? )\n",
    "- Left Parentheses ( ( )\n",
    "- Right Parentheses ( ) )\n",
    "- Dash ( -- )\n",
    "- Return ( \\n )\n",
    "\n",
    "This dictionary will be used to token the symbols and add the delimiter (space) around it.  This separates the symbols as it's own word, making it easier for the neural network to predict on the next word. Make sure you don't use a token that could be confused as a word. Instead of using the token \"dash\", try using something like \"||dash||\"."
   ]
  },
  {
   "cell_type": "code",
   "execution_count": null,
   "metadata": {},
   "outputs": [],
   "source": [
    "def token_lookup():\n",
    "    \"\"\"\n",
    "    Generate a dict to turn punctuation into a token.\n",
    "    :return: Tokenize dictionary where the key is the punctuation and the value is the token\n",
    "    \"\"\"\n",
    "    dict = {}\n",
    "    dict['.']=\"||Period||\"\n",
    "    dict[',']=\"||Comma||\"\n",
    "    dict['\"']=\"||Quotation_Mark||\"\n",
    "    dict[';']=\"||Semicolon||\"\n",
    "    dict['!']=\"||Exclamation_mark||\"\n",
    "    dict['?']=\"||Question_mark||\"\n",
    "    dict['(']=\"||Left_Parentheses||\"\n",
    "    dict[')']=\"||Right_Parentheses||\"\n",
    "    dict['--']=\"||Dash||\"\n",
    "    dict['\\n']=\"||Return||\"\n",
    "    \n",
    "    # TODO: Implement Function\n",
    "    return dict\n",
    "\n",
    "\"\"\"\n",
    "DON'T MODIFY ANYTHING IN THIS CELL THAT IS BELOW THIS LINE\n",
    "\"\"\"\n",
    "tests.test_tokenize(token_lookup)"
   ]
  },
  {
   "cell_type": "markdown",
   "metadata": {},
   "source": [
    "## Preprocess all the data and save it\n",
    "Running the code cell below will preprocess all the data and save it to file."
   ]
  },
  {
   "cell_type": "code",
   "execution_count": null,
   "metadata": {},
   "outputs": [],
   "source": [
    "\"\"\"\n",
    "DON'T MODIFY ANYTHING IN THIS CELL\n",
    "\"\"\"\n",
    "# Preprocess Training, Validation, and Testing Data\n",
    "helper.preprocess_and_save_data(data_dir, token_lookup, create_lookup_tables)"
   ]
  },
  {
   "cell_type": "markdown",
   "metadata": {},
   "source": [
    "# Check Point\n",
    "This is your first checkpoint. If you ever decide to come back to this notebook or have to restart the notebook, you can start from here. The preprocessed data has been saved to disk."
   ]
  },
  {
   "cell_type": "code",
   "execution_count": 18,
   "metadata": {},
   "outputs": [],
   "source": [
    "\"\"\"\n",
    "DON'T MODIFY ANYTHING IN THIS CELL\n",
    "\"\"\"\n",
    "import helper\n",
    "import numpy as np\n",
    "import problem_unittests as tests\n",
    "\n",
    "int_text, vocab_to_int, int_to_vocab, token_dict = helper.load_preprocess()"
   ]
  },
  {
   "cell_type": "markdown",
   "metadata": {},
   "source": [
    "## Build the Neural Network\n",
    "You'll build the components necessary to build a RNN by implementing the following functions below:\n",
    "- get_inputs\n",
    "- get_init_cell\n",
    "- get_embed\n",
    "- build_rnn\n",
    "- build_nn\n",
    "- get_batches\n",
    "\n",
    "### Check the Version of TensorFlow and Access to GPU"
   ]
  },
  {
   "cell_type": "code",
   "execution_count": 19,
   "metadata": {},
   "outputs": [
    {
     "name": "stdout",
     "output_type": "stream",
     "text": [
      "TensorFlow Version: 1.1.0\n",
      "Default GPU Device: /gpu:0\n"
     ]
    }
   ],
   "source": [
    "\"\"\"\n",
    "DON'T MODIFY ANYTHING IN THIS CELL\n",
    "\"\"\"\n",
    "from distutils.version import LooseVersion\n",
    "import warnings\n",
    "import tensorflow as tf\n",
    "\n",
    "# Check TensorFlow Version\n",
    "assert LooseVersion(tf.__version__) >= LooseVersion('1.0'), 'Please use TensorFlow version 1.0 or newer'\n",
    "print('TensorFlow Version: {}'.format(tf.__version__))\n",
    "\n",
    "# Check for a GPU\n",
    "if not tf.test.gpu_device_name():\n",
    "    warnings.warn('No GPU found. Please use a GPU to train your neural network.')\n",
    "else:\n",
    "    print('Default GPU Device: {}'.format(tf.test.gpu_device_name()))"
   ]
  },
  {
   "cell_type": "markdown",
   "metadata": {},
   "source": [
    "### Input\n",
    "Implement the `get_inputs()` function to create TF Placeholders for the Neural Network.  It should create the following placeholders:\n",
    "- Input text placeholder named \"input\" using the [TF Placeholder](https://www.tensorflow.org/api_docs/python/tf/placeholder) `name` parameter.\n",
    "- Targets placeholder\n",
    "- Learning Rate placeholder\n",
    "\n",
    "Return the placeholders in the following tuple `(Input, Targets, LearningRate)`"
   ]
  },
  {
   "cell_type": "code",
   "execution_count": 20,
   "metadata": {},
   "outputs": [
    {
     "name": "stdout",
     "output_type": "stream",
     "text": [
      "Tests Passed\n"
     ]
    }
   ],
   "source": [
    "def get_inputs():\n",
    "    \"\"\"\n",
    "    Create TF Placeholders for input, targets, and learning rate.\n",
    "    :return: Tuple (input, targets, learning rate)\n",
    "    \"\"\"\n",
    "    # TODO: Implement Function\n",
    "    return (tf.placeholder(tf.int32,[None,None], name='input'), \n",
    "            tf.placeholder(tf.int32,[None,None], name='targets'), \n",
    "            tf.placeholder(tf.float32, name='learning_rate'))\n",
    "\n",
    "\n",
    "\"\"\"\n",
    "DON'T MODIFY ANYTHING IN THIS CELL THAT IS BELOW THIS LINE\n",
    "\"\"\"\n",
    "tests.test_get_inputs(get_inputs)"
   ]
  },
  {
   "cell_type": "markdown",
   "metadata": {},
   "source": [
    "### Build RNN Cell and Initialize\n",
    "Stack one or more [`BasicLSTMCells`](https://www.tensorflow.org/api_docs/python/tf/contrib/rnn/BasicLSTMCell) in a [`MultiRNNCell`](https://www.tensorflow.org/api_docs/python/tf/contrib/rnn/MultiRNNCell).\n",
    "- The Rnn size should be set using `rnn_size`\n",
    "- Initalize Cell State using the MultiRNNCell's [`zero_state()`](https://www.tensorflow.org/api_docs/python/tf/contrib/rnn/MultiRNNCell#zero_state) function\n",
    "    - Apply the name \"initial_state\" to the initial state using [`tf.identity()`](https://www.tensorflow.org/api_docs/python/tf/identity)\n",
    "\n",
    "Return the cell and initial state in the following tuple `(Cell, InitialState)`"
   ]
  },
  {
   "cell_type": "code",
   "execution_count": 21,
   "metadata": {},
   "outputs": [
    {
     "name": "stdout",
     "output_type": "stream",
     "text": [
      "Tests Passed\n"
     ]
    }
   ],
   "source": [
    "def get_basic_cell(rnn_size):\n",
    "    lstm = tf.contrib.rnn.BasicLSTMCell(rnn_size)\n",
    "    return lstm\n",
    "    \n",
    "    \n",
    "def get_init_cell(batch_size, rnn_size):\n",
    "    \"\"\"\n",
    "    Create an RNN Cell and initialize it.\n",
    "    :param batch_size: Size of batches\n",
    "    :param rnn_size: Size of RNNs\n",
    "    :return: Tuple (cell, initialize state)\n",
    "    \"\"\"\n",
    "    cell = tf.contrib.rnn.MultiRNNCell([get_basic_cell(rnn_size) for i in range(1)])\n",
    "    initial_state = cell.zero_state(batch_size, tf.float32)\n",
    "    return cell, tf.identity(initial_state, name='initial_state')\n",
    "\n",
    "\n",
    "\"\"\"\n",
    "DON'T MODIFY ANYTHING IN THIS CELL THAT IS BELOW THIS LINE\n",
    "\"\"\"\n",
    "tests.test_get_init_cell(get_init_cell)"
   ]
  },
  {
   "cell_type": "markdown",
   "metadata": {},
   "source": [
    "### Word Embedding\n",
    "Apply embedding to `input_data` using TensorFlow.  Return the embedded sequence."
   ]
  },
  {
   "cell_type": "code",
   "execution_count": 22,
   "metadata": {},
   "outputs": [
    {
     "name": "stdout",
     "output_type": "stream",
     "text": [
      "Tests Passed\n"
     ]
    }
   ],
   "source": [
    "def get_embed(input_data, vocab_size, embed_dim):\n",
    "    \"\"\"\n",
    "    Create embedding for <input_data>.\n",
    "    :param input_data: TF placeholder for text input.\n",
    "    :param vocab_size: Number of words in vocabulary.\n",
    "    :param embed_dim: Number of embedding dimensions\n",
    "    :return: Embedded input.\n",
    "    \"\"\"\n",
    "    embedding = tf.Variable(tf.truncated_normal([vocab_size,embed_dim]))\n",
    "    return tf.nn.embedding_lookup(embedding,input_data)\n",
    "\n",
    "\n",
    "\"\"\"\n",
    "DON'T MODIFY ANYTHING IN THIS CELL THAT IS BELOW THIS LINE\n",
    "\"\"\"\n",
    "tests.test_get_embed(get_embed)"
   ]
  },
  {
   "cell_type": "markdown",
   "metadata": {},
   "source": [
    "### Build RNN\n",
    "You created a RNN Cell in the `get_init_cell()` function.  Time to use the cell to create a RNN.\n",
    "- Build the RNN using the [`tf.nn.dynamic_rnn()`](https://www.tensorflow.org/api_docs/python/tf/nn/dynamic_rnn)\n",
    " - Apply the name \"final_state\" to the final state using [`tf.identity()`](https://www.tensorflow.org/api_docs/python/tf/identity)\n",
    "\n",
    "Return the outputs and final_state state in the following tuple `(Outputs, FinalState)` "
   ]
  },
  {
   "cell_type": "code",
   "execution_count": 23,
   "metadata": {},
   "outputs": [
    {
     "name": "stdout",
     "output_type": "stream",
     "text": [
      "Tests Passed\n"
     ]
    }
   ],
   "source": [
    "def build_rnn(cell, inputs):\n",
    "    \"\"\"\n",
    "    Create a RNN using a RNN Cell\n",
    "    :param cell: RNN Cell\n",
    "    :param inputs: Input text data\n",
    "    :return: Tuple (Outputs, Final State)\n",
    "    \"\"\"\n",
    "    outputs, final_state = tf.nn.dynamic_rnn(cell,inputs,dtype=tf.float32)\n",
    "    return outputs, tf.identity(final_state, name='final_state')\n",
    "\n",
    "\n",
    "\"\"\"\n",
    "DON'T MODIFY ANYTHING IN THIS CELL THAT IS BELOW THIS LINE\n",
    "\"\"\"\n",
    "tests.test_build_rnn(build_rnn)"
   ]
  },
  {
   "cell_type": "markdown",
   "metadata": {},
   "source": [
    "### Build the Neural Network\n",
    "Apply the functions you implemented above to:\n",
    "- Apply embedding to `input_data` using your `get_embed(input_data, vocab_size, embed_dim)` function.\n",
    "- Build RNN using `cell` and your `build_rnn(cell, inputs)` function.\n",
    "- Apply a fully connected layer with a linear activation and `vocab_size` as the number of outputs.\n",
    "\n",
    "Return the logits and final state in the following tuple (Logits, FinalState) "
   ]
  },
  {
   "cell_type": "code",
   "execution_count": 26,
   "metadata": {},
   "outputs": [
    {
     "name": "stdout",
     "output_type": "stream",
     "text": [
      "Tests Passed\n"
     ]
    }
   ],
   "source": [
    "def build_nn(cell, rnn_size, input_data, vocab_size, embed_dim):\n",
    "    \"\"\"\n",
    "    Build part of the neural network\n",
    "    :param cell: RNN cell\n",
    "    :param rnn_size: Size of rnns\n",
    "    :param input_data: Input data\n",
    "    :param vocab_size: Vocabulary size\n",
    "    :param embed_dim: Number of embedding dimensions\n",
    "    :return: Tuple (Logits, FinalState)\n",
    "    \"\"\"\n",
    "    embed = get_embed(input_data,vocab_size,embed_dim)\n",
    "    lstm_output, final_state = build_rnn(cell,embed)\n",
    "    \n",
    "    logits = tf.contrib.layers.fully_connected(lstm_output,vocab_size,activation_fn=None)\n",
    "    \n",
    "    return logits, final_state\n",
    "\n",
    "\n",
    "\"\"\"\n",
    "DON'T MODIFY ANYTHING IN THIS CELL THAT IS BELOW THIS LINE\n",
    "\"\"\"\n",
    "tests.test_build_nn(build_nn)"
   ]
  },
  {
   "cell_type": "markdown",
   "metadata": {},
   "source": [
    "### Batches\n",
    "Implement `get_batches` to create batches of input and targets using `int_text`.  The batches should be a Numpy array with the shape `(number of batches, 2, batch size, sequence length)`. Each batch contains two elements:\n",
    "- The first element is a single batch of **input** with the shape `[batch size, sequence length]`\n",
    "- The second element is a single batch of **targets** with the shape `[batch size, sequence length]`\n",
    "\n",
    "If you can't fill the last batch with enough data, drop the last batch.\n",
    "\n",
    "For exmple, `get_batches([1, 2, 3, 4, 5, 6, 7, 8, 9, 10, 11, 12, 13, 14, 15, 16, 17, 18, 19, 20], 3, 2)` would return a Numpy array of the following:\n",
    "```\n",
    "[\n",
    "  # First Batch\n",
    "  [\n",
    "    # Batch of Input\n",
    "    [[ 1  2], [ 7  8], [13 14]]\n",
    "    # Batch of targets\n",
    "    [[ 2  3], [ 8  9], [14 15]]\n",
    "  ]\n",
    "\n",
    "  # Second Batch\n",
    "  [\n",
    "    # Batch of Input\n",
    "    [[ 3  4], [ 9 10], [15 16]]\n",
    "    # Batch of targets\n",
    "    [[ 4  5], [10 11], [16 17]]\n",
    "  ]\n",
    "\n",
    "  # Third Batch\n",
    "  [\n",
    "    # Batch of Input\n",
    "    [[ 5  6], [11 12], [17 18]]\n",
    "    # Batch of targets\n",
    "    [[ 6  7], [12 13], [18  1]]\n",
    "  ]\n",
    "]\n",
    "```\n",
    "\n",
    "Notice that the last target value in the last batch is the first input value of the first batch. In this case, `1`. This is a common technique used when creating sequence batches, although it is rather unintuitive."
   ]
  },
  {
   "cell_type": "code",
   "execution_count": 27,
   "metadata": {
    "scrolled": true
   },
   "outputs": [
    {
     "name": "stdout",
     "output_type": "stream",
     "text": [
      "Tests Passed\n"
     ]
    }
   ],
   "source": [
    "import numpy as np\n",
    "import problem_unittests as tests\n",
    "def get_batches(int_text, batch_size, seq_length):\n",
    "    \"\"\"\n",
    "    Return batches of input and target\n",
    "    :param int_text: Text with the words replaced by their ids\n",
    "    :param batch_size: The size of batch\n",
    "    :param seq_length: The length of sequence\n",
    "    :return: Batches as a Numpy array\n",
    "    \"\"\"\n",
    "    n_batches = len(int_text)//(batch_size*seq_length)\n",
    "    int_text = np.array(int_text[:n_batches*batch_size*seq_length])\n",
    "    int_target = np.append(int_text[1:],[int_text[0]],axis = 0)\n",
    "    \n",
    "    int_text = int_text.reshape((batch_size,-1))\n",
    "    int_target = int_target.reshape((batch_size,-1))\n",
    "    \n",
    "    \n",
    "    batch = np.zeros(seq_length*batch_size*2*n_batches, dtype=np.int).reshape(n_batches,2,batch_size,seq_length)\n",
    "    for i in range(0,n_batches*seq_length,seq_length):\n",
    "        batch[i//seq_length,0] = int_text[:,i:i+seq_length]\n",
    "        batch[i//seq_length,1] = int_target[:,i:i+seq_length]\n",
    "\n",
    "    return batch\n",
    "\n",
    "\"\"\"\n",
    "DON'T MODIFY ANYTHING IN THIS CELL THAT IS BELOW THIS LINE\n",
    "\"\"\"\n",
    "tests.test_get_batches(get_batches)"
   ]
  },
  {
   "cell_type": "markdown",
   "metadata": {},
   "source": [
    "## Neural Network Training\n",
    "### Hyperparameters\n",
    "Tune the following parameters:\n",
    "\n",
    "- Set `num_epochs` to the number of epochs.\n",
    "- Set `batch_size` to the batch size.\n",
    "- Set `rnn_size` to the size of the RNNs.\n",
    "- Set `embed_dim` to the size of the embedding.\n",
    "- Set `seq_length` to the length of sequence.\n",
    "- Set `learning_rate` to the learning rate.\n",
    "- Set `show_every_n_batches` to the number of batches the neural network should print progress."
   ]
  },
  {
   "cell_type": "code",
   "execution_count": 44,
   "metadata": {},
   "outputs": [],
   "source": [
    "# Number of Epochs\n",
    "num_epochs = 50\n",
    "# Batch Size\n",
    "batch_size = 40\n",
    "# RNN Size\n",
    "rnn_size = 256\n",
    "# Embedding Dimension Size\n",
    "embed_dim = 200\n",
    "# Sequence Length\n",
    "seq_length = 13\n",
    "# Learning Rate\n",
    "learning_rate = 0.003\n",
    "# Show stats for every n number of batches\n",
    "show_every_n_batches = 50\n",
    "\n",
    "\"\"\"\n",
    "DON'T MODIFY ANYTHING IN THIS CELL THAT IS BELOW THIS LINE\n",
    "\"\"\"\n",
    "save_dir = './save'"
   ]
  },
  {
   "cell_type": "markdown",
   "metadata": {},
   "source": [
    "### Build the Graph\n",
    "Build the graph using the neural network you implemented."
   ]
  },
  {
   "cell_type": "code",
   "execution_count": 45,
   "metadata": {},
   "outputs": [],
   "source": [
    "\"\"\"\n",
    "DON'T MODIFY ANYTHING IN THIS CELL\n",
    "\"\"\"\n",
    "from tensorflow.contrib import seq2seq\n",
    "\n",
    "train_graph = tf.Graph()\n",
    "with train_graph.as_default():\n",
    "    vocab_size = len(int_to_vocab)\n",
    "    input_text, targets, lr = get_inputs()\n",
    "    input_data_shape = tf.shape(input_text)\n",
    "    cell, initial_state = get_init_cell(input_data_shape[0], rnn_size)\n",
    "    logits, final_state = build_nn(cell, rnn_size, input_text, vocab_size, embed_dim)\n",
    "\n",
    "    # Probabilities for generating words\n",
    "    probs = tf.nn.softmax(logits, name='probs')\n",
    "\n",
    "    # Loss function\n",
    "    cost = seq2seq.sequence_loss(\n",
    "        logits,\n",
    "        targets,\n",
    "        tf.ones([input_data_shape[0], input_data_shape[1]]))\n",
    "\n",
    "    # Optimizer\n",
    "    optimizer = tf.train.AdamOptimizer(lr)\n",
    "\n",
    "    # Gradient Clipping\n",
    "    gradients = optimizer.compute_gradients(cost)\n",
    "    capped_gradients = [(tf.clip_by_value(grad, -1., 1.), var) for grad, var in gradients if grad is not None]\n",
    "    train_op = optimizer.apply_gradients(capped_gradients)"
   ]
  },
  {
   "cell_type": "markdown",
   "metadata": {},
   "source": [
    "## Train\n",
    "Train the neural network on the preprocessed data.  If you have a hard time getting a good loss, check the [forums](https://discussions.udacity.com/) to see if anyone is having the same problem."
   ]
  },
  {
   "cell_type": "code",
   "execution_count": 46,
   "metadata": {},
   "outputs": [
    {
     "name": "stdout",
     "output_type": "stream",
     "text": [
      "Epoch   0 Batch    0/132   train_loss = 8.821    acc = 0.000\n",
      "Epoch   0 Batch   50/132   train_loss = 5.815    acc = 14.423\n",
      "Epoch   0 Batch  100/132   train_loss = 5.419    acc = 19.423\n",
      "Epoch   1 Batch   18/132   train_loss = 5.039    acc = 23.269\n",
      "Epoch   1 Batch   68/132   train_loss = 4.867    acc = 24.231\n",
      "Epoch   1 Batch  118/132   train_loss = 4.890    acc = 22.885\n",
      "Epoch   2 Batch   36/132   train_loss = 4.565    acc = 21.731\n",
      "Epoch   2 Batch   86/132   train_loss = 4.287    acc = 25.769\n",
      "Epoch   3 Batch    4/132   train_loss = 4.370    acc = 23.846\n",
      "Epoch   3 Batch   54/132   train_loss = 4.252    acc = 25.000\n",
      "Epoch   3 Batch  104/132   train_loss = 4.118    acc = 25.769\n",
      "Epoch   4 Batch   22/132   train_loss = 3.577    acc = 31.346\n",
      "Epoch   4 Batch   72/132   train_loss = 3.612    acc = 31.154\n",
      "Epoch   4 Batch  122/132   train_loss = 3.700    acc = 27.500\n",
      "Epoch   5 Batch   40/132   train_loss = 3.647    acc = 27.500\n",
      "Epoch   5 Batch   90/132   train_loss = 3.295    acc = 32.308\n",
      "Epoch   6 Batch    8/132   train_loss = 3.652    acc = 29.615\n",
      "Epoch   6 Batch   58/132   train_loss = 3.321    acc = 33.846\n",
      "Epoch   6 Batch  108/132   train_loss = 3.116    acc = 35.192\n",
      "Epoch   7 Batch   26/132   train_loss = 3.032    acc = 37.692\n",
      "Epoch   7 Batch   76/132   train_loss = 2.915    acc = 39.808\n",
      "Epoch   7 Batch  126/132   train_loss = 2.841    acc = 39.615\n",
      "Epoch   8 Batch   44/132   train_loss = 2.942    acc = 35.962\n",
      "Epoch   8 Batch   94/132   train_loss = 2.782    acc = 37.308\n",
      "Epoch   9 Batch   12/132   train_loss = 2.761    acc = 43.654\n",
      "Epoch   9 Batch   62/132   train_loss = 2.657    acc = 41.731\n",
      "Epoch   9 Batch  112/132   train_loss = 2.591    acc = 41.538\n",
      "Epoch  10 Batch   30/132   train_loss = 2.367    acc = 48.269\n",
      "Epoch  10 Batch   80/132   train_loss = 2.331    acc = 50.000\n",
      "Epoch  10 Batch  130/132   train_loss = 2.184    acc = 51.923\n",
      "Epoch  11 Batch   48/132   train_loss = 2.464    acc = 41.154\n",
      "Epoch  11 Batch   98/132   train_loss = 2.094    acc = 53.462\n",
      "Epoch  12 Batch   16/132   train_loss = 2.073    acc = 52.308\n",
      "Epoch  12 Batch   66/132   train_loss = 2.197    acc = 53.269\n",
      "Epoch  12 Batch  116/132   train_loss = 1.904    acc = 57.500\n",
      "Epoch  13 Batch   34/132   train_loss = 1.974    acc = 55.385\n",
      "Epoch  13 Batch   84/132   train_loss = 1.941    acc = 56.346\n",
      "Epoch  14 Batch    2/132   train_loss = 1.892    acc = 56.346\n",
      "Epoch  14 Batch   52/132   train_loss = 1.809    acc = 60.577\n",
      "Epoch  14 Batch  102/132   train_loss = 1.769    acc = 60.385\n",
      "Epoch  15 Batch   20/132   train_loss = 1.748    acc = 58.077\n",
      "Epoch  15 Batch   70/132   train_loss = 1.820    acc = 60.000\n",
      "Epoch  15 Batch  120/132   train_loss = 1.616    acc = 63.077\n",
      "Epoch  16 Batch   38/132   train_loss = 1.575    acc = 64.231\n",
      "Epoch  16 Batch   88/132   train_loss = 1.614    acc = 62.692\n",
      "Epoch  17 Batch    6/132   train_loss = 1.575    acc = 64.231\n",
      "Epoch  17 Batch   56/132   train_loss = 1.529    acc = 64.231\n",
      "Epoch  17 Batch  106/132   train_loss = 1.435    acc = 65.769\n",
      "Epoch  18 Batch   24/132   train_loss = 1.611    acc = 62.692\n",
      "Epoch  18 Batch   74/132   train_loss = 1.552    acc = 64.231\n",
      "Epoch  18 Batch  124/132   train_loss = 1.369    acc = 68.077\n",
      "Epoch  19 Batch   42/132   train_loss = 1.310    acc = 70.577\n",
      "Epoch  19 Batch   92/132   train_loss = 1.300    acc = 70.000\n",
      "Epoch  20 Batch   10/132   train_loss = 1.363    acc = 67.885\n",
      "Epoch  20 Batch   60/132   train_loss = 1.285    acc = 68.269\n",
      "Epoch  20 Batch  110/132   train_loss = 1.216    acc = 71.538\n",
      "Epoch  21 Batch   28/132   train_loss = 1.153    acc = 73.269\n",
      "Epoch  21 Batch   78/132   train_loss = 1.205    acc = 72.115\n",
      "Epoch  21 Batch  128/132   train_loss = 1.147    acc = 73.846\n",
      "Epoch  22 Batch   46/132   train_loss = 1.062    acc = 76.923\n",
      "Epoch  22 Batch   96/132   train_loss = 1.113    acc = 75.000\n",
      "Epoch  23 Batch   14/132   train_loss = 0.996    acc = 76.346\n",
      "Epoch  23 Batch   64/132   train_loss = 0.989    acc = 76.538\n",
      "Epoch  23 Batch  114/132   train_loss = 0.883    acc = 80.769\n",
      "Epoch  24 Batch   32/132   train_loss = 0.944    acc = 78.269\n",
      "Epoch  24 Batch   82/132   train_loss = 0.921    acc = 78.846\n",
      "Epoch  25 Batch    0/132   train_loss = 0.995    acc = 75.769\n",
      "Epoch  25 Batch   50/132   train_loss = 0.972    acc = 78.654\n",
      "Epoch  25 Batch  100/132   train_loss = 0.887    acc = 81.731\n",
      "Epoch  26 Batch   18/132   train_loss = 0.776    acc = 82.500\n",
      "Epoch  26 Batch   68/132   train_loss = 0.847    acc = 80.577\n",
      "Epoch  26 Batch  118/132   train_loss = 0.834    acc = 80.962\n",
      "Epoch  27 Batch   36/132   train_loss = 0.853    acc = 81.154\n",
      "Epoch  27 Batch   86/132   train_loss = 0.836    acc = 80.385\n",
      "Epoch  28 Batch    4/132   train_loss = 0.741    acc = 83.269\n",
      "Epoch  28 Batch   54/132   train_loss = 0.732    acc = 82.500\n",
      "Epoch  28 Batch  104/132   train_loss = 0.790    acc = 82.115\n",
      "Epoch  29 Batch   22/132   train_loss = 0.674    acc = 85.385\n",
      "Epoch  29 Batch   72/132   train_loss = 0.746    acc = 81.731\n",
      "Epoch  29 Batch  122/132   train_loss = 0.639    acc = 85.192\n",
      "Epoch  30 Batch   40/132   train_loss = 0.617    acc = 86.731\n",
      "Epoch  30 Batch   90/132   train_loss = 0.587    acc = 86.923\n",
      "Epoch  31 Batch    8/132   train_loss = 0.523    acc = 87.885\n",
      "Epoch  31 Batch   58/132   train_loss = 0.721    acc = 83.654\n",
      "Epoch  31 Batch  108/132   train_loss = 0.716    acc = 83.654\n",
      "Epoch  32 Batch   26/132   train_loss = 0.629    acc = 85.577\n",
      "Epoch  32 Batch   76/132   train_loss = 0.626    acc = 84.231\n",
      "Epoch  32 Batch  126/132   train_loss = 0.545    acc = 86.731\n",
      "Epoch  33 Batch   44/132   train_loss = 0.598    acc = 85.769\n",
      "Epoch  33 Batch   94/132   train_loss = 0.543    acc = 88.654\n",
      "Epoch  34 Batch   12/132   train_loss = 0.614    acc = 85.192\n",
      "Epoch  34 Batch   62/132   train_loss = 0.577    acc = 85.385\n",
      "Epoch  34 Batch  112/132   train_loss = 0.517    acc = 88.846\n",
      "Epoch  35 Batch   30/132   train_loss = 0.533    acc = 88.846\n",
      "Epoch  35 Batch   80/132   train_loss = 0.466    acc = 89.423\n",
      "Epoch  35 Batch  130/132   train_loss = 0.439    acc = 90.192\n",
      "Epoch  36 Batch   48/132   train_loss = 0.523    acc = 87.308\n",
      "Epoch  36 Batch   98/132   train_loss = 0.432    acc = 90.577\n",
      "Epoch  37 Batch   16/132   train_loss = 0.470    acc = 89.615\n",
      "Epoch  37 Batch   66/132   train_loss = 0.529    acc = 89.423\n",
      "Epoch  37 Batch  116/132   train_loss = 0.412    acc = 91.538\n",
      "Epoch  38 Batch   34/132   train_loss = 0.519    acc = 88.077\n",
      "Epoch  38 Batch   84/132   train_loss = 0.519    acc = 87.692\n",
      "Epoch  39 Batch    2/132   train_loss = 0.464    acc = 89.615\n",
      "Epoch  39 Batch   52/132   train_loss = 0.428    acc = 89.423\n",
      "Epoch  39 Batch  102/132   train_loss = 0.473    acc = 89.038\n",
      "Epoch  40 Batch   20/132   train_loss = 0.441    acc = 88.846\n",
      "Epoch  40 Batch   70/132   train_loss = 0.459    acc = 89.808\n",
      "Epoch  40 Batch  120/132   train_loss = 0.429    acc = 90.385\n",
      "Epoch  41 Batch   38/132   train_loss = 0.353    acc = 91.538\n",
      "Epoch  41 Batch   88/132   train_loss = 0.438    acc = 90.385\n",
      "Epoch  42 Batch    6/132   train_loss = 0.428    acc = 89.615\n",
      "Epoch  42 Batch   56/132   train_loss = 0.447    acc = 90.385\n",
      "Epoch  42 Batch  106/132   train_loss = 0.431    acc = 88.846\n",
      "Epoch  43 Batch   24/132   train_loss = 0.478    acc = 87.885\n",
      "Epoch  43 Batch   74/132   train_loss = 0.509    acc = 88.269\n",
      "Epoch  43 Batch  124/132   train_loss = 0.433    acc = 90.000\n",
      "Epoch  44 Batch   42/132   train_loss = 0.444    acc = 89.808\n",
      "Epoch  44 Batch   92/132   train_loss = 0.375    acc = 92.308\n",
      "Epoch  45 Batch   10/132   train_loss = 0.391    acc = 90.769\n",
      "Epoch  45 Batch   60/132   train_loss = 0.367    acc = 91.923\n",
      "Epoch  45 Batch  110/132   train_loss = 0.376    acc = 90.769\n",
      "Epoch  46 Batch   28/132   train_loss = 0.398    acc = 89.038\n",
      "Epoch  46 Batch   78/132   train_loss = 0.380    acc = 91.346\n",
      "Epoch  46 Batch  128/132   train_loss = 0.408    acc = 90.192\n",
      "Epoch  47 Batch   46/132   train_loss = 0.315    acc = 92.115\n",
      "Epoch  47 Batch   96/132   train_loss = 0.390    acc = 90.769\n",
      "Epoch  48 Batch   14/132   train_loss = 0.366    acc = 90.577\n",
      "Epoch  48 Batch   64/132   train_loss = 0.375    acc = 90.962\n",
      "Epoch  48 Batch  114/132   train_loss = 0.322    acc = 91.923\n",
      "Epoch  49 Batch   32/132   train_loss = 0.415    acc = 90.192\n",
      "Epoch  49 Batch   82/132   train_loss = 0.388    acc = 90.385\n",
      "Model Trained and Saved\n"
     ]
    }
   ],
   "source": [
    "\"\"\"\n",
    "DON'T MODIFY ANYTHING IN THIS CELL\n",
    "\"\"\"\n",
    "batches = get_batches(int_text, batch_size, seq_length)\n",
    "\n",
    "with tf.Session(graph=train_graph) as sess:\n",
    "    sess.run(tf.global_variables_initializer())\n",
    "\n",
    "    for epoch_i in range(num_epochs):\n",
    "        state = sess.run(initial_state, {input_text: batches[0][0]})\n",
    "\n",
    "        for batch_i, (x, y) in enumerate(batches):\n",
    "            feed = {\n",
    "                input_text: x,\n",
    "                targets: y,\n",
    "                initial_state: state,\n",
    "                lr: learning_rate}\n",
    "            lox,train_loss, state, _ = sess.run([logits, cost, final_state, train_op], feed)\n",
    "\n",
    "            y_pred = np.argmax(lox,axis=2)       \n",
    "            eqs = np.sum(y==y_pred)\n",
    "            acc = 100*eqs/np.prod(y_pred.shape)\n",
    "            \n",
    "            # Show every <show_every_n_batches> batches\n",
    "            if (epoch_i * len(batches) + batch_i) % show_every_n_batches == 0:\n",
    "                print('Epoch {:>3} Batch {:>4}/{}   train_loss = {:.3f}    acc = {:.3f}'.format(\n",
    "                    epoch_i,\n",
    "                    batch_i,\n",
    "                    len(batches),\n",
    "                    train_loss,acc))\n",
    "\n",
    "    # Save Model\n",
    "    saver = tf.train.Saver()\n",
    "    saver.save(sess, save_dir)\n",
    "    print('Model Trained and Saved')"
   ]
  },
  {
   "cell_type": "markdown",
   "metadata": {},
   "source": [
    "## Save Parameters\n",
    "Save `seq_length` and `save_dir` for generating a new TV script."
   ]
  },
  {
   "cell_type": "code",
   "execution_count": 47,
   "metadata": {},
   "outputs": [],
   "source": [
    "\"\"\"\n",
    "DON'T MODIFY ANYTHING IN THIS CELL\n",
    "\"\"\"\n",
    "# Save parameters for checkpoint\n",
    "helper.save_params((seq_length, save_dir))"
   ]
  },
  {
   "cell_type": "markdown",
   "metadata": {},
   "source": [
    "# Checkpoint"
   ]
  },
  {
   "cell_type": "code",
   "execution_count": 48,
   "metadata": {},
   "outputs": [],
   "source": [
    "\"\"\"\n",
    "DON'T MODIFY ANYTHING IN THIS CELL\n",
    "\"\"\"\n",
    "import tensorflow as tf\n",
    "import numpy as np\n",
    "import helper\n",
    "import problem_unittests as tests\n",
    "\n",
    "_, vocab_to_int, int_to_vocab, token_dict = helper.load_preprocess()\n",
    "seq_length, load_dir = helper.load_params()"
   ]
  },
  {
   "cell_type": "markdown",
   "metadata": {},
   "source": [
    "## Implement Generate Functions\n",
    "### Get Tensors\n",
    "Get tensors from `loaded_graph` using the function [`get_tensor_by_name()`](https://www.tensorflow.org/api_docs/python/tf/Graph#get_tensor_by_name).  Get the tensors using the following names:\n",
    "- \"input:0\"\n",
    "- \"initial_state:0\"\n",
    "- \"final_state:0\"\n",
    "- \"probs:0\"\n",
    "\n",
    "Return the tensors in the following tuple `(InputTensor, InitialStateTensor, FinalStateTensor, ProbsTensor)` "
   ]
  },
  {
   "cell_type": "code",
   "execution_count": 49,
   "metadata": {},
   "outputs": [
    {
     "name": "stdout",
     "output_type": "stream",
     "text": [
      "Tests Passed\n"
     ]
    }
   ],
   "source": [
    "def get_tensors(loaded_graph):\n",
    "    \"\"\"\n",
    "    Get input, initial state, final state, and probabilities tensor from <loaded_graph>\n",
    "    :param loaded_graph: TensorFlow graph loaded from file\n",
    "    :return: Tuple (InputTensor, InitialStateTensor, FinalStateTensor, ProbsTensor)\n",
    "    \"\"\"\n",
    "    # TODO: Implement Function\n",
    "    return loaded_graph.get_tensor_by_name(\"input:0\"),loaded_graph.get_tensor_by_name(\"initial_state:0\"),loaded_graph.get_tensor_by_name(\"final_state:0\"),loaded_graph.get_tensor_by_name(\"probs:0\")\n",
    "\n",
    "\n",
    "\"\"\"\n",
    "DON'T MODIFY ANYTHING IN THIS CELL THAT IS BELOW THIS LINE\n",
    "\"\"\"\n",
    "tests.test_get_tensors(get_tensors)"
   ]
  },
  {
   "cell_type": "markdown",
   "metadata": {},
   "source": [
    "### Choose Word\n",
    "Implement the `pick_word()` function to select the next word using `probabilities`."
   ]
  },
  {
   "cell_type": "code",
   "execution_count": 50,
   "metadata": {},
   "outputs": [
    {
     "name": "stdout",
     "output_type": "stream",
     "text": [
      "Tests Passed\n"
     ]
    }
   ],
   "source": [
    "def pick_word(probabilities, int_to_vocab):\n",
    "    \"\"\"\n",
    "    Pick the next word in the generated text\n",
    "    :param probabilities: Probabilites of the next word\n",
    "    :param int_to_vocab: Dictionary of word ids as the keys and words as the values\n",
    "    :return: String of the predicted word\n",
    "    \"\"\"\n",
    "    # TODO: Implement Function\n",
    "    rdn = np.random.rand(1)[0]\n",
    "    s = 0\n",
    "    for i in range(len(probabilities)):\n",
    "        s+= probabilities[i]\n",
    "        if(s >= rdn):\n",
    "            return int_to_vocab[i]\n",
    "    return int_to_vocab[len(probabilities)-1]\n",
    "\n",
    "\n",
    "\"\"\"\n",
    "DON'T MODIFY ANYTHING IN THIS CELL THAT IS BELOW THIS LINE\n",
    "\"\"\"\n",
    "tests.test_pick_word(pick_word)"
   ]
  },
  {
   "cell_type": "markdown",
   "metadata": {},
   "source": [
    "## Generate TV Script\n",
    "This will generate the TV script for you.  Set `gen_length` to the length of TV script you want to generate."
   ]
  },
  {
   "cell_type": "code",
   "execution_count": 51,
   "metadata": {},
   "outputs": [
    {
     "name": "stdout",
     "output_type": "stream",
     "text": [
      "INFO:tensorflow:Restoring parameters from ./save\n",
      "moe_szyslak: are you? you're ugly?\n",
      "homer_simpson: well, i ain't never said something bad.\n",
      "moe_szyslak: hey, no, listen, your aw, beautiful! ow! get a kid enemies down and--\n",
      "homer_simpson:(getting idea) but moe, tell me when you still turn here?\n",
      "lenny_leonard:(quietly to tv) well, it's called a flaming.\n",
      "lisa_simpson: who? sure?\n",
      "moe_szyslak:(offended) what? it's all over in the john.\n",
      "chief_wiggum:(muttering) heh. he had a better man?\n",
      "moe_szyslak:(reentering) oh, who cares?(\n",
      "hank_williams_jr what do i look call, a big company and-- will my mom doesn't a hollowed-out tree?\n",
      "homer_simpson:(singing)\n",
      "moe_szyslak: what's the matter, homer? you're a published author!\n",
      "lisa_simpson:(on tv, and you're not your normal!\n",
      "\n",
      "\n",
      "homer_simpson: and now, i want you in a day, moe.\n",
      "barney_gumble: do you wanna help us a little.\n",
      "moe_szyslak: yeah, homer that folks who said\n"
     ]
    }
   ],
   "source": [
    "gen_length = 200\n",
    "# homer_simpson, moe_szyslak, or Barney_Gumble\n",
    "prime_word = 'moe_szyslak'\n",
    "\n",
    "\"\"\"\n",
    "DON'T MODIFY ANYTHING IN THIS CELL THAT IS BELOW THIS LINE\n",
    "\"\"\"\n",
    "loaded_graph = tf.Graph()\n",
    "with tf.Session(graph=loaded_graph) as sess:\n",
    "    # Load saved model\n",
    "    loader = tf.train.import_meta_graph(load_dir + '.meta')\n",
    "    loader.restore(sess, load_dir)\n",
    "\n",
    "    # Get Tensors from loaded model\n",
    "    input_text, initial_state, final_state, probs = get_tensors(loaded_graph)\n",
    "\n",
    "    # Sentences generation setup\n",
    "    gen_sentences = [prime_word + ':']\n",
    "    prev_state = sess.run(initial_state, {input_text: np.array([[1]])})\n",
    "\n",
    "    # Generate sentences\n",
    "    for n in range(gen_length):\n",
    "        # Dynamic Input\n",
    "        dyn_input = [[vocab_to_int[word] for word in gen_sentences[-seq_length:]]]\n",
    "        dyn_seq_length = len(dyn_input[0])\n",
    "\n",
    "        # Get Prediction\n",
    "        probabilities, prev_state = sess.run(\n",
    "            [probs, final_state],\n",
    "            {input_text: dyn_input, initial_state: prev_state})\n",
    "        \n",
    "        pred_word = pick_word(probabilities[dyn_seq_length-1], int_to_vocab)\n",
    "\n",
    "        gen_sentences.append(pred_word)\n",
    "    \n",
    "    # Remove tokens\n",
    "    tv_script = ' '.join(gen_sentences)\n",
    "    for key, token in token_dict.items():\n",
    "        ending = ' ' if key in ['\\n', '(', '\"'] else ''\n",
    "        tv_script = tv_script.replace(' ' + token.lower(), key)\n",
    "    tv_script = tv_script.replace('\\n ', '\\n')\n",
    "    tv_script = tv_script.replace('( ', '(')\n",
    "        \n",
    "    print(tv_script)"
   ]
  },
  {
   "cell_type": "markdown",
   "metadata": {},
   "source": [
    "# The TV Script is Nonsensical\n",
    "It's ok if the TV script doesn't make any sense.  We trained on less than a megabyte of text.  In order to get good results, you'll have to use a smaller vocabulary or get more data.  Luckly there's more data!  As we mentioned in the begging of this project, this is a subset of [another dataset](https://www.kaggle.com/wcukierski/the-simpsons-by-the-data).  We didn't have you train on all the data, because that would take too long.  However, you are free to train your neural network on all the data.  After you complete the project, of course.\n",
    "# Submitting This Project\n",
    "When submitting this project, make sure to run all the cells before saving the notebook. Save the notebook file as \"dlnd_tv_script_generation.ipynb\" and save it as a HTML file under \"File\" -> \"Download as\". Include the \"helper.py\" and \"problem_unittests.py\" files in your submission."
   ]
  },
  {
   "cell_type": "code",
   "execution_count": null,
   "metadata": {},
   "outputs": [],
   "source": []
  }
 ],
 "metadata": {
  "anaconda-cloud": {},
  "kernelspec": {
   "display_name": "Python 3",
   "language": "python",
   "name": "python3"
  },
  "language_info": {
   "codemirror_mode": {
    "name": "ipython",
    "version": 3
   },
   "file_extension": ".py",
   "mimetype": "text/x-python",
   "name": "python",
   "nbconvert_exporter": "python",
   "pygments_lexer": "ipython3",
   "version": "3.5.2"
  },
  "widgets": {
   "state": {},
   "version": "1.1.2"
  }
 },
 "nbformat": 4,
 "nbformat_minor": 1
}
